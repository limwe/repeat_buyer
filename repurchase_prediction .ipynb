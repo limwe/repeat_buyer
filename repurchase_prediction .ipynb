{
 "cells": [
  {
   "cell_type": "code",
   "execution_count": 1,
   "id": "08901bb6",
   "metadata": {},
   "outputs": [],
   "source": [
    "import pandas as pd\n",
    "import gc\n",
    "import numpy as np"
   ]
  },
  {
   "cell_type": "code",
   "execution_count": 2,
   "id": "093372bb",
   "metadata": {},
   "outputs": [],
   "source": [
    "train_path = 'train_format1.csv'\n",
    "log_path = 'user_log_format1.csv'\n",
    "info_path = 'user_info_format1.csv'\n",
    "test_path = 'test_format1.csv'"
   ]
  },
  {
   "cell_type": "code",
   "execution_count": 3,
   "id": "16a327bd",
   "metadata": {},
   "outputs": [],
   "source": [
    "raw_train_data = pd.read_csv(train_path)\n",
    "raw_test_data = pd.read_csv(test_path)\n",
    "raw_log_data = pd.read_csv(log_path).rename(columns = {'seller_id':'merchant_id'})\n",
    "raw_info_data = pd.read_csv(info_path)"
   ]
  },
  {
   "cell_type": "markdown",
   "id": "6d781bf1",
   "metadata": {},
   "source": [
    "### Necessary Features"
   ]
  },
  {
   "cell_type": "code",
   "execution_count": 4,
   "id": "95d2fb43",
   "metadata": {},
   "outputs": [],
   "source": [
    "#商家有多少商品：merchant_id + item_id\n",
    "#商家有多少品类：merchant_id + cat_id\n",
    "#商家有多少品牌：merchant_id + brand_id\n",
    "#商家的商品被点击、收藏、加车、购买了多少次：merchant_id + action_type\n",
    "#商家被活跃天数：merchant_id + time_stamp\n",
    "#商家吸引的用户数：merchant_id + user_id\n",
    "\n",
    "#用户年龄段：age_range\n",
    "#用户性别：gender\n",
    "#用户活跃天数：days_count\n",
    "#用户活跃月数：months_count\n",
    "#用户所有点击、收藏、加车、购买了多少次：action_counts\n",
    "#用户活跃的商家数：merchant_id\n",
    "\n",
    "#用户在目标店铺点击、收藏、加车、购买了多少次：action_counts\n",
    "#用户在目标店铺活跃天数：days_count of specified user and merchant\n",
    "#用户在目标店铺活跃月数：months_count of specified user and merchant"
   ]
  },
  {
   "cell_type": "markdown",
   "id": "64a19316",
   "metadata": {},
   "source": [
    "### Data cleaning"
   ]
  },
  {
   "cell_type": "code",
   "execution_count": 5,
   "id": "e9f7912f",
   "metadata": {},
   "outputs": [],
   "source": [
    "raw_log_data['brand_id'].fillna(0, inplace=True)\n",
    "raw_info_data['gender'].fillna(2, inplace=True)\n",
    "raw_info_data['age_range'].fillna(2, inplace=True)\n",
    "del raw_test_data['prob']"
   ]
  },
  {
   "cell_type": "code",
   "execution_count": 6,
   "id": "85c37056",
   "metadata": {},
   "outputs": [
    {
     "name": "stdout",
     "output_type": "stream",
     "text": [
      "CPU times: user 54.2 s, sys: 3.48 s, total: 57.7 s\n",
      "Wall time: 57.7 s\n"
     ]
    }
   ],
   "source": [
    "%%time\n",
    "groups = raw_log_data.groupby(['merchant_id'])\n",
    "feature = groups['item_id'].agg('nunique').reset_index().rename(columns = {'item_id':'item_count'})\n",
    "temp = groups['cat_id'].agg('nunique').reset_index().rename(columns = {'cat_id':'cat_count'})\n",
    "feature = feature.merge(temp,on='merchant_id',how='left')\n",
    "temp = groups['brand_id'].agg('nunique').reset_index().rename(columns = {'brand_id':'brand_count'})\n",
    "feature = feature.merge(temp,on='merchant_id',how='left')\n",
    "temp = raw_log_data.groupby(['merchant_id','action_type']).size().reset_index().rename(columns={0:'cnt'})\n",
    "temp = pd.get_dummies(temp,columns = ['action_type'],prefix = ['actions'])\n",
    "columns = [i for i in temp.columns.tolist() if 'actions' in i]\n",
    "for i in columns:\n",
    "    temp[i] *= temp['cnt']\n",
    "temp = temp.groupby('merchant_id').agg('sum').reset_index()\n",
    "del temp['cnt']\n",
    "feature = feature.merge(temp,on = 'merchant_id',how = 'left')"
   ]
  },
  {
   "cell_type": "code",
   "execution_count": 7,
   "id": "a6d681b3",
   "metadata": {},
   "outputs": [
    {
     "name": "stdout",
     "output_type": "stream",
     "text": [
      "CPU times: user 22.9 s, sys: 1.27 s, total: 24.2 s\n",
      "Wall time: 24.2 s\n"
     ]
    }
   ],
   "source": [
    "%%time\n",
    "temp = groups['time_stamp'].agg('nunique').reset_index().rename(columns = {'time_stamp':'days_count'})\n",
    "feature = feature.merge(temp,on = 'merchant_id',how = 'left')\n",
    "temp = groups['user_id'].agg('nunique').reset_index().rename(columns = {'user_id':'user_count'})\n",
    "feature = feature.merge(temp,on = 'merchant_id',how = 'left')"
   ]
  },
  {
   "cell_type": "code",
   "execution_count": 8,
   "id": "e188870b",
   "metadata": {},
   "outputs": [],
   "source": [
    "groups = raw_log_data.groupby(['user_id'])\n",
    "user_feature = raw_info_data\n",
    "temp = groups['time_stamp'].agg('nunique').reset_index().rename(columns = {'time_stamp':'days_count'})\n",
    "user_feature = user_feature.merge(temp,on = 'user_id',how = 'left')\n",
    "group = raw_log_data.copy()\n",
    "group['time_stamp'] //= 100\n",
    "group = group.groupby(['user_id'])\n",
    "temp = group['time_stamp'].agg('nunique').reset_index().rename(columns = {'time_stamp':'month_count'})\n",
    "user_feature = user_feature.merge(temp,on = 'user_id',how = 'left')\n",
    "temp = raw_log_data.groupby(['user_id','action_type']).size().reset_index().rename(columns={0:'cnt'})\n",
    "temp = pd.get_dummies(temp,columns = ['action_type'],prefix = ['action'])\n",
    "columns = [i for i in temp.columns.tolist() if 'action' in i]\n",
    "for i in columns:\n",
    "    temp[i] *= temp['cnt']\n",
    "temp = temp.groupby('user_id').agg('sum').reset_index()\n",
    "del temp['cnt']\n",
    "user_feature = user_feature.merge(temp,on = 'user_id',how = 'left')\n",
    "temp = groups['merchant_id'].agg('nunique').reset_index().rename(columns = {'merchant_id':'merchant_count'})"
   ]
  },
  {
   "cell_type": "code",
   "execution_count": 9,
   "id": "762968d7",
   "metadata": {},
   "outputs": [],
   "source": [
    "groups = raw_log_data.groupby(['user_id','merchant_id'])\n",
    "mutual_feature_train = raw_train_data\n",
    "mutual_feature_pred = raw_test_data\n",
    "temp = groups['time_stamp'].agg('nunique').reset_index().rename(columns = {'time_stamp':'days'})\n",
    "mutual_feature_train = mutual_feature_train.merge(temp,on = ['user_id','merchant_id'],how = 'left')\n",
    "mutual_feature_pred = mutual_feature_pred.merge(temp,on = ['user_id','merchant_id'],how = 'left')\n",
    "group = raw_log_data.copy()\n",
    "group['time_stamp'] //= 100\n",
    "group = group.groupby(['user_id','merchant_id'])\n",
    "temp = group['time_stamp'].agg('nunique').reset_index().rename(columns = {'time_stamp':'month'})\n",
    "mutual_feature_train = mutual_feature_train.merge(temp,on = ['user_id','merchant_id'],how = 'left')\n",
    "mutual_feature_pred = mutual_feature_pred.merge(temp,on = ['user_id','merchant_id'],how = 'left')\n",
    "temp = raw_log_data.groupby(['user_id','merchant_id','action_type']).size().reset_index().rename(columns={0:'cnt'})\n",
    "temp = pd.get_dummies(temp,columns = ['action_type'],prefix = ['act'])\n",
    "columns = [i for i in temp.columns.tolist() if 'act' in i]\n",
    "for i in columns:\n",
    "    temp[i] *= temp['cnt']\n",
    "temp = temp.groupby(['user_id','merchant_id']).agg('sum').reset_index()\n",
    "del temp['cnt']\n",
    "mutual_feature_train = mutual_feature_train.merge(temp,on = ['user_id','merchant_id'],how = 'left')\n",
    "mutual_feature_pred = mutual_feature_pred.merge(temp,on = ['user_id','merchant_id'],how = 'left')"
   ]
  },
  {
   "cell_type": "code",
   "execution_count": 10,
   "id": "4d83925a",
   "metadata": {},
   "outputs": [],
   "source": [
    "mutual_feature_pred =mutual_feature_pred.merge(feature,on = 'merchant_id',how = 'left')\n",
    "mutual_feature_pred =mutual_feature_pred.merge(user_feature,on = 'user_id',how = 'left')\n",
    "mutual_feature_train = mutual_feature_train.merge(feature,on = 'merchant_id',how = 'left')\n",
    "mutual_feature_train = mutual_feature_train.merge(user_feature,on = 'user_id',how = 'left')"
   ]
  },
  {
   "cell_type": "code",
   "execution_count": 11,
   "id": "a6f677c4",
   "metadata": {},
   "outputs": [],
   "source": [
    "from sklearn.model_selection import train_test_split\n",
    "import xgboost as xgb  \n",
    "from sklearn.metrics import roc_auc_score, roc_curve, auc"
   ]
  },
  {
   "cell_type": "code",
   "execution_count": 12,
   "id": "f6dea9c7",
   "metadata": {},
   "outputs": [
    {
     "name": "stdout",
     "output_type": "stream",
     "text": [
      "CPU times: user 6 µs, sys: 1e+03 ns, total: 7 µs\n",
      "Wall time: 12.6 µs\n"
     ]
    }
   ],
   "source": [
    "%%time\n",
    "def xgb_train(X_train, y_train, X_valid, y_valid, verbose=True):\n",
    "    model_xgb = xgb.XGBClassifier(\n",
    "        max_depth=10, # raw8\n",
    "        n_estimators=1000,\n",
    "        min_child_weight=300, \n",
    "        colsample_bytree=0.8, \n",
    "        subsample=0.8, \n",
    "        eta=0.3,    \n",
    "        seed=42        \n",
    "    )\n",
    "\n",
    "    model_xgb.fit(\n",
    "        X_train, \n",
    "        y_train,\n",
    "        eval_metric='auc',\n",
    "        eval_set=[(X_train, y_train), (X_valid, y_valid)],\n",
    "        verbose=verbose,\n",
    "        early_stopping_rounds=10 # 早停法，如果auc在10epoch没有进步就stop\n",
    "    )\n",
    "    print(model_xgb.best_score)\n",
    "    return model_xgb"
   ]
  },
  {
   "cell_type": "code",
   "execution_count": 13,
   "id": "ad86c77e",
   "metadata": {},
   "outputs": [],
   "source": [
    "# train\n",
    "train_y = mutual_feature_train.pop('label')\n",
    "train_X = mutual_feature_train.iloc[:,2:]\n",
    "pred_X = mutual_feature_pred.iloc[:,2:]\n",
    "X_train, X_valid, y_train, y_valid = train_test_split(train_X, train_y, test_size=.2, random_state=42) # test_size=.3"
   ]
  },
  {
   "cell_type": "code",
   "execution_count": 14,
   "id": "236fba79",
   "metadata": {},
   "outputs": [
    {
     "name": "stderr",
     "output_type": "stream",
     "text": [
      "/home/linw/miniconda3/envs/python/lib/python3.7/site-packages/xgboost/sklearn.py:1224: UserWarning: The use of label encoder in XGBClassifier is deprecated and will be removed in a future release. To remove this warning, do the following: 1) Pass option use_label_encoder=False when constructing XGBClassifier object; and 2) Encode your labels (y) as integers starting with 0, i.e. 0, 1, 2, ..., [num_class - 1].\n",
      "  warnings.warn(label_encoder_deprecation_msg, UserWarning)\n"
     ]
    },
    {
     "name": "stdout",
     "output_type": "stream",
     "text": [
      "[0]\tvalidation_0-auc:0.63287\tvalidation_1-auc:0.63348\n",
      "[1]\tvalidation_0-auc:0.64954\tvalidation_1-auc:0.64167\n",
      "[2]\tvalidation_0-auc:0.65497\tvalidation_1-auc:0.64389\n",
      "[3]\tvalidation_0-auc:0.65790\tvalidation_1-auc:0.64385\n",
      "[4]\tvalidation_0-auc:0.66194\tvalidation_1-auc:0.64832\n",
      "[5]\tvalidation_0-auc:0.66319\tvalidation_1-auc:0.65072\n",
      "[6]\tvalidation_0-auc:0.66422\tvalidation_1-auc:0.65079\n",
      "[7]\tvalidation_0-auc:0.66499\tvalidation_1-auc:0.65248\n",
      "[8]\tvalidation_0-auc:0.66602\tvalidation_1-auc:0.65298\n",
      "[9]\tvalidation_0-auc:0.66758\tvalidation_1-auc:0.65433\n",
      "[10]\tvalidation_0-auc:0.66745\tvalidation_1-auc:0.65422\n",
      "[11]\tvalidation_0-auc:0.66903\tvalidation_1-auc:0.65687\n",
      "[12]\tvalidation_0-auc:0.67034\tvalidation_1-auc:0.65765\n",
      "[13]\tvalidation_0-auc:0.67104\tvalidation_1-auc:0.65900\n",
      "[14]\tvalidation_0-auc:0.67360\tvalidation_1-auc:0.66204\n",
      "[15]\tvalidation_0-auc:0.67485\tvalidation_1-auc:0.66302\n",
      "[16]\tvalidation_0-auc:0.67609\tvalidation_1-auc:0.66354\n",
      "[17]\tvalidation_0-auc:0.67681\tvalidation_1-auc:0.66420\n",
      "[18]\tvalidation_0-auc:0.67824\tvalidation_1-auc:0.66388\n",
      "[19]\tvalidation_0-auc:0.67935\tvalidation_1-auc:0.66500\n",
      "[20]\tvalidation_0-auc:0.68044\tvalidation_1-auc:0.66564\n",
      "[21]\tvalidation_0-auc:0.68296\tvalidation_1-auc:0.66827\n",
      "[22]\tvalidation_0-auc:0.68403\tvalidation_1-auc:0.66885\n",
      "[23]\tvalidation_0-auc:0.68437\tvalidation_1-auc:0.66878\n",
      "[24]\tvalidation_0-auc:0.68638\tvalidation_1-auc:0.67105\n",
      "[25]\tvalidation_0-auc:0.68749\tvalidation_1-auc:0.67145\n",
      "[26]\tvalidation_0-auc:0.68820\tvalidation_1-auc:0.67208\n",
      "[27]\tvalidation_0-auc:0.68938\tvalidation_1-auc:0.67260\n",
      "[28]\tvalidation_0-auc:0.69095\tvalidation_1-auc:0.67354\n",
      "[29]\tvalidation_0-auc:0.69220\tvalidation_1-auc:0.67461\n",
      "[30]\tvalidation_0-auc:0.69304\tvalidation_1-auc:0.67467\n",
      "[31]\tvalidation_0-auc:0.69374\tvalidation_1-auc:0.67541\n",
      "[32]\tvalidation_0-auc:0.69429\tvalidation_1-auc:0.67579\n",
      "[33]\tvalidation_0-auc:0.69538\tvalidation_1-auc:0.67580\n",
      "[34]\tvalidation_0-auc:0.69618\tvalidation_1-auc:0.67575\n",
      "[35]\tvalidation_0-auc:0.69713\tvalidation_1-auc:0.67611\n",
      "[36]\tvalidation_0-auc:0.69787\tvalidation_1-auc:0.67658\n",
      "[37]\tvalidation_0-auc:0.69833\tvalidation_1-auc:0.67660\n",
      "[38]\tvalidation_0-auc:0.69901\tvalidation_1-auc:0.67652\n",
      "[39]\tvalidation_0-auc:0.70026\tvalidation_1-auc:0.67707\n",
      "[40]\tvalidation_0-auc:0.70077\tvalidation_1-auc:0.67741\n",
      "[41]\tvalidation_0-auc:0.70157\tvalidation_1-auc:0.67763\n",
      "[42]\tvalidation_0-auc:0.70252\tvalidation_1-auc:0.67847\n",
      "[43]\tvalidation_0-auc:0.70329\tvalidation_1-auc:0.67887\n",
      "[44]\tvalidation_0-auc:0.70393\tvalidation_1-auc:0.67951\n",
      "[45]\tvalidation_0-auc:0.70420\tvalidation_1-auc:0.67928\n",
      "[46]\tvalidation_0-auc:0.70482\tvalidation_1-auc:0.67914\n",
      "[47]\tvalidation_0-auc:0.70546\tvalidation_1-auc:0.67964\n",
      "[48]\tvalidation_0-auc:0.70606\tvalidation_1-auc:0.67990\n",
      "[49]\tvalidation_0-auc:0.70677\tvalidation_1-auc:0.67993\n",
      "[50]\tvalidation_0-auc:0.70735\tvalidation_1-auc:0.67999\n",
      "[51]\tvalidation_0-auc:0.70765\tvalidation_1-auc:0.67991\n",
      "[52]\tvalidation_0-auc:0.70823\tvalidation_1-auc:0.67975\n",
      "[53]\tvalidation_0-auc:0.70911\tvalidation_1-auc:0.67934\n",
      "[54]\tvalidation_0-auc:0.70984\tvalidation_1-auc:0.67963\n",
      "[55]\tvalidation_0-auc:0.71007\tvalidation_1-auc:0.67973\n",
      "[56]\tvalidation_0-auc:0.71054\tvalidation_1-auc:0.67972\n",
      "[57]\tvalidation_0-auc:0.71106\tvalidation_1-auc:0.67990\n",
      "[58]\tvalidation_0-auc:0.71156\tvalidation_1-auc:0.67986\n",
      "[59]\tvalidation_0-auc:0.71225\tvalidation_1-auc:0.68016\n",
      "[60]\tvalidation_0-auc:0.71273\tvalidation_1-auc:0.68042\n",
      "[61]\tvalidation_0-auc:0.71320\tvalidation_1-auc:0.68068\n",
      "[62]\tvalidation_0-auc:0.71380\tvalidation_1-auc:0.68065\n",
      "[63]\tvalidation_0-auc:0.71420\tvalidation_1-auc:0.68024\n",
      "[64]\tvalidation_0-auc:0.71454\tvalidation_1-auc:0.68030\n",
      "[65]\tvalidation_0-auc:0.71470\tvalidation_1-auc:0.68005\n",
      "[66]\tvalidation_0-auc:0.71508\tvalidation_1-auc:0.68027\n",
      "[67]\tvalidation_0-auc:0.71547\tvalidation_1-auc:0.68037\n",
      "[68]\tvalidation_0-auc:0.71572\tvalidation_1-auc:0.68052\n",
      "[69]\tvalidation_0-auc:0.71622\tvalidation_1-auc:0.68040\n",
      "[70]\tvalidation_0-auc:0.71649\tvalidation_1-auc:0.68037\n",
      "[71]\tvalidation_0-auc:0.71697\tvalidation_1-auc:0.68069\n",
      "[72]\tvalidation_0-auc:0.71753\tvalidation_1-auc:0.68065\n",
      "[73]\tvalidation_0-auc:0.71778\tvalidation_1-auc:0.68044\n",
      "[74]\tvalidation_0-auc:0.71803\tvalidation_1-auc:0.68071\n",
      "[75]\tvalidation_0-auc:0.71840\tvalidation_1-auc:0.68107\n",
      "[76]\tvalidation_0-auc:0.71903\tvalidation_1-auc:0.68088\n",
      "[77]\tvalidation_0-auc:0.71949\tvalidation_1-auc:0.68073\n",
      "[78]\tvalidation_0-auc:0.71984\tvalidation_1-auc:0.68022\n",
      "[79]\tvalidation_0-auc:0.72015\tvalidation_1-auc:0.68024\n",
      "[80]\tvalidation_0-auc:0.72067\tvalidation_1-auc:0.68028\n",
      "[81]\tvalidation_0-auc:0.72119\tvalidation_1-auc:0.68045\n",
      "[82]\tvalidation_0-auc:0.72168\tvalidation_1-auc:0.68041\n",
      "[83]\tvalidation_0-auc:0.72197\tvalidation_1-auc:0.68023\n",
      "[84]\tvalidation_0-auc:0.72212\tvalidation_1-auc:0.68053\n",
      "0.68107\n"
     ]
    }
   ],
   "source": [
    "model_xgb = xgb_train(X_train,y_train, X_valid, y_valid)"
   ]
  },
  {
   "cell_type": "code",
   "execution_count": 16,
   "id": "3d2f4ed8",
   "metadata": {},
   "outputs": [
    {
     "name": "stdout",
     "output_type": "stream",
     "text": [
      "CPU times: user 4.49 s, sys: 73 ms, total: 4.57 s\n",
      "Wall time: 628 ms\n"
     ]
    }
   ],
   "source": [
    "%%time\n",
    "# predict\n",
    "prob = model_xgb.predict_proba(pred_X)\n",
    "submission = mutual_feature_pred.iloc[:,:2]\n",
    "submission['prob'] = pd.Series(prob[:,1])\n",
    "# submission.drop(['origin'], axis=1, inplace=True)\n",
    "submission.to_csv('ans_oct.csv', index=False)"
   ]
  },
  {
   "cell_type": "code",
   "execution_count": null,
   "id": "0896f852",
   "metadata": {},
   "outputs": [],
   "source": [
    "from sklearn.ensemble import RandomForestClassifier\n",
    "from sklearn.linear_model import LinearRegression\n",
    "from sklearn.metrics import classification_report\n",
    "import lightgbm as lgb\n",
    "import catboost as cat"
   ]
  }
 ],
 "metadata": {
  "kernelspec": {
   "display_name": "Python 3",
   "language": "python",
   "name": "python3"
  },
  "language_info": {
   "codemirror_mode": {
    "name": "ipython",
    "version": 3
   },
   "file_extension": ".py",
   "mimetype": "text/x-python",
   "name": "python",
   "nbconvert_exporter": "python",
   "pygments_lexer": "ipython3",
   "version": "3.7.10"
  }
 },
 "nbformat": 4,
 "nbformat_minor": 5
}
